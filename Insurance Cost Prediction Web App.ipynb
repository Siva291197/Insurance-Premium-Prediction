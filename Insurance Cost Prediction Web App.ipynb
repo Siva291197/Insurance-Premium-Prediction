{
 "cells": [
  {
   "cell_type": "code",
   "execution_count": 1,
   "id": "39d26202",
   "metadata": {},
   "outputs": [],
   "source": [
    "from flask import Flask,request,render_template\n",
    "import pickle as pkl\n",
    "import pandas as pd\n",
    "import numpy as np"
   ]
  },
  {
   "cell_type": "code",
   "execution_count": 2,
   "id": "6db40002",
   "metadata": {},
   "outputs": [],
   "source": [
    "# Create a Web Server Gateway Interface Application.\n",
    "\n",
    "app = Flask(__name__)"
   ]
  },
  {
   "cell_type": "code",
   "execution_count": 3,
   "id": "5863de85",
   "metadata": {},
   "outputs": [],
   "source": [
    "# To display the home page.\n",
    "\n",
    "@app.route('/', endpoint = 'home', methods = ['GET'])\n",
    "def home_page():\n",
    "    return render_template('home.html')"
   ]
  },
  {
   "cell_type": "code",
   "execution_count": 4,
   "id": "fd651ac8",
   "metadata": {},
   "outputs": [],
   "source": [
    "# To load the pickle files of OHE, StandardScaler, Polynomial Regressor, Lasso Regressor.\n",
    "\n",
    "one_hot_encoder = pkl.load(open('OneHotEncoder.pkl','rb'))\n",
    "standard_scaler = pkl.load(open('StandardScaler.pkl','rb'))\n",
    "polynomial_reg  = pkl.load(open('Polynomial.pkl','rb'))\n",
    "lasso_reg       = pkl.load(open('LassoRegPoly.pkl','rb'))"
   ]
  },
  {
   "cell_type": "code",
   "execution_count": 5,
   "id": "16adb0d6",
   "metadata": {},
   "outputs": [],
   "source": [
    "# To predict the insurance premium cost using Lasso Regression.\n",
    "\n",
    "@app.route('/predictdata', methods = ['GET','POST'])\n",
    "def predict_data():\n",
    "    if request.method == 'POST':\n",
    "        age = abs(int(request.form.get('age')))\n",
    "        sex = request.form.get('sex').lower()\n",
    "        bmi = abs(float(request.form.get('bmi')))\n",
    "        children = abs(int(request.form.get('children')))\n",
    "        smoker = request.form.get('smoker').lower()\n",
    "        region = request.form.get('region').lower()\n",
    "        \n",
    "        # Convert the above values into dataframe (for one hot encoding)\n",
    "        data = pd.DataFrame({\n",
    "            'age' : [age],\n",
    "            'sex' : [sex],\n",
    "            'bmi' : [bmi],\n",
    "            'children' : [children],\n",
    "            'smoker' : [smoker],\n",
    "            'region' : [region]\n",
    "        })\n",
    "        \n",
    "        # Perform one hot encoding.\n",
    "        cat_cols = ['sex','smoker','region']\n",
    "        data_encoded = one_hot_encoder.transform(data[cat_cols]).toarray()\n",
    "        \n",
    "        # Convert the encoded array into a dataframe (for concat with original dataframe)\n",
    "        data_encoded_df = pd.DataFrame(data_encoded, columns = one_hot_encoder.get_feature_names_out(cat_cols), index = data.index)\n",
    "        \n",
    "        # Concat encoded df with original df.\n",
    "        data = pd.concat([data,data_encoded_df],axis = 1)\n",
    "        \n",
    "        # Drop the categorical features (sex, smoker, region)\n",
    "        data = data.drop(cat_cols,axis = 1)\n",
    "        \n",
    "        # Perform Standardization.\n",
    "        data_scaled = standard_scaler.transform(data)\n",
    "        \n",
    "        # Perform Polynomial Regression.\n",
    "        data_scaled_poly = polynomial_reg.transform(data_scaled)\n",
    "        \n",
    "        # Perform Prediction through Lasso Regression.\n",
    "        results = lasso_reg.predict(data_scaled_poly)\n",
    "        \n",
    "        return render_template('Parameters.html', result = round(results[0],2))\n",
    "    else:\n",
    "        return render_template('Parameters.html')        "
   ]
  },
  {
   "cell_type": "code",
   "execution_count": 6,
   "id": "ac3d4f6d",
   "metadata": {},
   "outputs": [
    {
     "name": "stdout",
     "output_type": "stream",
     "text": [
      " * Serving Flask app '__main__'\n",
      " * Debug mode: off\n"
     ]
    },
    {
     "name": "stderr",
     "output_type": "stream",
     "text": [
      "WARNING: This is a development server. Do not use it in a production deployment. Use a production WSGI server instead.\n",
      " * Running on all addresses (0.0.0.0)\n",
      " * Running on http://127.0.0.1:8080\n",
      " * Running on http://192.168.29.125:8080\n",
      "Press CTRL+C to quit\n",
      "127.0.0.1 - - [05/Feb/2025 13:27:35] \"GET / HTTP/1.1\" 200 -\n",
      "127.0.0.1 - - [05/Feb/2025 13:27:41] \"GET /predictdata HTTP/1.1\" 200 -\n",
      "127.0.0.1 - - [05/Feb/2025 13:28:05] \"POST /predictdata HTTP/1.1\" 200 -\n",
      "127.0.0.1 - - [05/Feb/2025 13:28:37] \"POST /predictdata HTTP/1.1\" 200 -\n",
      "C:\\Users\\003HL1744\\AppData\\Local\\anaconda3\\lib\\site-packages\\sklearn\\preprocessing\\_encoders.py:202: UserWarning: Found unknown categories in columns [0] during transform. These unknown categories will be encoded as all zeros\n",
      "  warnings.warn(\n",
      "127.0.0.1 - - [05/Feb/2025 19:17:37] \"POST /predictdata HTTP/1.1\" 200 -\n",
      "C:\\Users\\003HL1744\\AppData\\Local\\anaconda3\\lib\\site-packages\\sklearn\\preprocessing\\_encoders.py:202: UserWarning: Found unknown categories in columns [0] during transform. These unknown categories will be encoded as all zeros\n",
      "  warnings.warn(\n",
      "127.0.0.1 - - [05/Feb/2025 19:19:50] \"POST /predictdata HTTP/1.1\" 200 -\n",
      "127.0.0.1 - - [05/Feb/2025 19:21:43] \"POST /predictdata HTTP/1.1\" 200 -\n"
     ]
    }
   ],
   "source": [
    "# Run the application.\n",
    "\n",
    "if __name__ == '__main__':\n",
    "    app.run(host = '0.0.0.0', port = 8080)"
   ]
  },
  {
   "cell_type": "code",
   "execution_count": null,
   "id": "1e1cc2e0",
   "metadata": {},
   "outputs": [],
   "source": []
  },
  {
   "cell_type": "code",
   "execution_count": null,
   "id": "a325c0c2",
   "metadata": {},
   "outputs": [],
   "source": []
  },
  {
   "cell_type": "code",
   "execution_count": null,
   "id": "c2687628",
   "metadata": {},
   "outputs": [],
   "source": []
  },
  {
   "cell_type": "code",
   "execution_count": null,
   "id": "fe2661fd",
   "metadata": {},
   "outputs": [],
   "source": [
    "# Points to Note:\n",
    "# 1. While creating dataframe, the values of the columns should be passed in a list. Otherwise, the error \n",
    "# ValueError: If using all scalar values, you must pass an index will be returned.\n",
    "# 2. Feature names should be same as when the model is trained."
   ]
  }
 ],
 "metadata": {
  "kernelspec": {
   "display_name": "Python 3 (ipykernel)",
   "language": "python",
   "name": "python3"
  },
  "language_info": {
   "codemirror_mode": {
    "name": "ipython",
    "version": 3
   },
   "file_extension": ".py",
   "mimetype": "text/x-python",
   "name": "python",
   "nbconvert_exporter": "python",
   "pygments_lexer": "ipython3",
   "version": "3.10.9"
  }
 },
 "nbformat": 4,
 "nbformat_minor": 5
}
