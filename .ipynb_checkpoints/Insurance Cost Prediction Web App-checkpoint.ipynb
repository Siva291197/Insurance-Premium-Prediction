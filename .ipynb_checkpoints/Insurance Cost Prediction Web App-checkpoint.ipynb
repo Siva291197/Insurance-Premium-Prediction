{
 "cells": [
  {
   "cell_type": "code",
   "execution_count": 6,
   "id": "3b0bfc6e",
   "metadata": {},
   "outputs": [],
   "source": [
    "from flask import Flask,request,render_template\n",
    "import pickle as pkl\n",
    "import pandas as pd\n",
    "import numpy as np"
   ]
  },
  {
   "cell_type": "code",
   "execution_count": 2,
   "id": "b5d74098",
   "metadata": {},
   "outputs": [],
   "source": [
    "# Create a Web Server Gateway Interface Application.\n",
    "\n",
    "app = Flask(__name__)"
   ]
  },
  {
   "cell_type": "code",
   "execution_count": 3,
   "id": "9df044c2",
   "metadata": {},
   "outputs": [],
   "source": [
    "# To display the home page.\n",
    "\n",
    "@app.route('/', endpoint = 'home', methods = ['GET'])\n",
    "def home_page():\n",
    "    return render_template('home.html')"
   ]
  },
  {
   "cell_type": "code",
   "execution_count": 4,
   "id": "313851c4",
   "metadata": {},
   "outputs": [],
   "source": [
    "# To load the pickle files of OHE, StandardScaler, Polynomial Regressor, Lasso Regressor.\n",
    "\n",
    "one_hot_encoder = pkl.load(open('OneHotEncoder.pkl','rb'))\n",
    "standard_scaler = pkl.load(open('StandardScaler.pkl','rb'))\n",
    "polynomial_reg  = pkl.load(open('Polynomial.pkl','rb'))\n",
    "lasso_reg       = pkl.load(open('LassoRegPoly.pkl','rb'))"
   ]
  },
  {
   "cell_type": "code",
   "execution_count": 7,
   "id": "699eeb24",
   "metadata": {},
   "outputs": [],
   "source": [
    "# To predict the insurance premium cost using Lasso Regression.\n",
    "\n",
    "@app.route('/predictdata', methods = ['GET','POST'])\n",
    "def predict_data():\n",
    "    if request.method == 'POST':\n",
    "        age = int(request.form.get('age'))\n",
    "        sex = request.form.get('sex').lower()\n",
    "        bmi = float(request.form.get('bmi'))\n",
    "        children = int(request.form.get('children'))\n",
    "        smoker = request.form.get('smoker').lower()\n",
    "        region = request.form.get('region').lower()\n",
    "        \n",
    "        # Convert the above values into dataframe (for one hot encoding)\n",
    "        data = pd.DataFrame({\n",
    "            'Age' : age,\n",
    "            'Sex' : sex,\n",
    "            'BMI' : bmi,\n",
    "            'Children' : children,\n",
    "            'Smoker' : smoker,\n",
    "            'Region' : region\n",
    "        })\n",
    "        \n",
    "        # Perform one hot encoding.\n",
    "        cat_cols = ['Sex','Smoker','Region']\n",
    "        data_encoded = one_hot_encoder.transform(data[cat_cols]).toarray()\n",
    "        \n",
    "        # Convert the encoded array into a dataframe (for concat with original dataframe)\n",
    "        data_encoded_df = pd.DataFrame(data_encoded, columns = one_hot_encoder.get_feature_names_out(cat_cols), index = data.index)\n",
    "        \n",
    "        # Concat encoded df with original df.\n",
    "        data = pd.concat([data,data_encoded_df],axis = 1)\n",
    "        \n",
    "        # Drop the categorical features (sex, smoker, region)\n",
    "        data = data.drop(cat_cols,axis = 1)\n",
    "        \n",
    "        # Perform Standardization.\n",
    "        data_scaled = standard_scaler.transform(data)\n",
    "        \n",
    "        # Perform Polynomial Regression.\n",
    "        data_scaled_poly = polynomial_reg.transform(data_scaled)\n",
    "        \n",
    "        # Perform Prediction through Lasso Regression.\n",
    "        results = lasso_reg.predict(data_scaled_poly)\n",
    "        \n",
    "        return render_template('Parameters.html', result = results[0])\n",
    "    else:\n",
    "        return render_template('Parameters.html')        "
   ]
  },
  {
   "cell_type": "code",
   "execution_count": null,
   "id": "6c5ef0d3",
   "metadata": {},
   "outputs": [],
   "source": [
    "# Run the application.\n",
    "\n",
    "if __name__ == '__main__':\n",
    "    app.run(host = '0.0.0.0', port = 8080)"
   ]
  }
 ],
 "metadata": {
  "kernelspec": {
   "display_name": "Python 3 (ipykernel)",
   "language": "python",
   "name": "python3"
  },
  "language_info": {
   "codemirror_mode": {
    "name": "ipython",
    "version": 3
   },
   "file_extension": ".py",
   "mimetype": "text/x-python",
   "name": "python",
   "nbconvert_exporter": "python",
   "pygments_lexer": "ipython3",
   "version": "3.10.9"
  }
 },
 "nbformat": 4,
 "nbformat_minor": 5
}
